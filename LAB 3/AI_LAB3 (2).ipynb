{
  "cells": [
    {
      "cell_type": "code",
      "source": [
        "#Task1 GoalBased DLS\n",
        "tree = {\n",
        "    'A': ['B', 'C'],\n",
        "    'B': ['D', 'E'],\n",
        "    'C': ['F', 'G'],\n",
        "    'D': ['H'],\n",
        "    'E': [],\n",
        "    'F': ['I'],\n",
        "    'G': [],\n",
        "    'H': [],\n",
        "    'I': []\n",
        "}\n",
        "\n",
        "class Environment:\n",
        "    def __init__(self, graph):\n",
        "        self.graph = graph\n",
        "\n",
        "    def get_percept(self, node):\n",
        "        return node\n",
        "\n",
        "class GoalBasedAgent:\n",
        "    def __init__(self, goal):\n",
        "        self.goal = goal\n",
        "\n",
        "    def formulate_goal(self, percept):\n",
        "        return percept == self.goal\n",
        "\n",
        "    def dls(self, graph, start, goal, depth_limit):\n",
        "        visited = []\n",
        "\n",
        "        def dfs(node, depth):\n",
        "            if depth > depth_limit:\n",
        "                return None\n",
        "\n",
        "            visited.append(node)\n",
        "\n",
        "            if node == goal:\n",
        "                return visited\n",
        "\n",
        "            for neighbor in graph.get(node, []):\n",
        "                if neighbor not in visited:\n",
        "                    path = dfs(neighbor, depth + 1)\n",
        "                    if path:\n",
        "                        return path\n",
        "            visited.pop()\n",
        "            return None\n",
        "        return dfs(start, 0)\n",
        "\n",
        "    def act(self, percept, graph, depth_limit):\n",
        "        if self.formulate_goal(percept):\n",
        "            return f\"Goal {self.goal} found at the start node!\"\n",
        "\n",
        "        path = self.dls(graph, percept, self.goal, depth_limit)\n",
        "        if path:\n",
        "            return f\"Goal found with DLS. Path: {path}\"\n",
        "        else:\n",
        "            return \"Goal not found within depth limit.\"\n",
        "\n",
        "def run_agent(agent, environment, start_node, depth_limit):\n",
        "    percept = environment.get_percept(start_node)\n",
        "    action = agent.act(percept, environment.graph, depth_limit)\n",
        "    print(action)\n",
        "\n",
        "start_node = 'A'\n",
        "goal_node = 'I'\n",
        "depth_limit = 3\n",
        "agent = GoalBasedAgent(goal_node)\n",
        "environment = Environment(tree)\n",
        "run_agent(agent, environment, start_node, depth_limit)"
      ],
      "metadata": {
        "colab": {
          "base_uri": "https://localhost:8080/"
        },
        "id": "p_0yn3Vhp3be",
        "outputId": "f23ac11e-6a4d-40f0-f5df-101f2b9d542a"
      },
      "execution_count": null,
      "outputs": [
        {
          "output_type": "stream",
          "name": "stdout",
          "text": [
            "Goal found with DLS. Path: ['A', 'C', 'F', 'I']\n"
          ]
        }
      ]
    },
    {
      "cell_type": "code",
      "source": [
        "#Task 1 UtilityBased UCS\n",
        "graph = {\n",
        "'A': {'B': 2, 'C': 1},\n",
        "'B': {'D': 1, 'E': 3},\n",
        "'C': {'F': 1, 'G': 5},\n",
        "'D': {'H': 2},\n",
        "'E': {},\n",
        "'F': {'I': 6},\n",
        "'G': {},\n",
        "'H': {'I':2},\n",
        "'I': {}\n",
        "}\n",
        "start = 'A'\n",
        "goal = 'I'\n",
        "\n",
        "class Environment:\n",
        "  def __init__(self, graph):\n",
        "    self.graph = graph\n",
        "\n",
        "class UtilityBasedAgent:\n",
        "\n",
        "  def __init__(self,goal):\n",
        "    self.goal=goal\n",
        "\n",
        "  def formulate_goal(self,start):\n",
        "    return start==self.goal\n",
        "\n",
        "  def act(self, graph,start ):\n",
        "        if self.formulate_goal(start):\n",
        "            return f\"Goal {self.goal} found at the start node!\"\n",
        "\n",
        "        path = self.ucs(graph, start)\n",
        "        if path:\n",
        "            return f\"Goal found with DLS. Path: {path}\"\n",
        "        else:\n",
        "            return \"Goal not found within depth limit.\"\n",
        "\n",
        "  def ucs(self, graph, start):\n",
        "      # Initialize the frontier with the start node and cost 0\n",
        "      frontier = [(start, 0)] # (node, cost)\n",
        "      visited = set() # Set to keep track of visited nodes\n",
        "      cost_so_far = {start: 0} # Cost to reach each node\n",
        "      came_from = {start: None} # Path reconstruction\n",
        "\n",
        "      while frontier:\n",
        "        # Sort frontier by cost, simulate priority queue\n",
        "        frontier.sort(key=lambda x: x[1])\n",
        "        # Pop the node with the lowest cost\n",
        "        current_node, current_cost = frontier.pop(0)\n",
        "        # If we've already visited this node, skip it\n",
        "        if current_node in visited:\n",
        "          continue\n",
        "\n",
        "        # Mark the current node as visited\n",
        "        visited.add(current_node)\n",
        "        # If we reach the goal, reconstruct the path and return\n",
        "        if current_node == self.goal:\n",
        "          path = []\n",
        "          while current_node is not None:\n",
        "            path.append(current_node)\n",
        "            current_node = came_from[current_node]\n",
        "          path.reverse()\n",
        "          print(f\"Goal found with UCS. Path: {path}, Total Cost: {current_cost}\")\n",
        "          return\n",
        "\n",
        "        # Explore neighbors\n",
        "        for neighbor, cost in graph[current_node].items():\n",
        "          new_cost = current_cost + cost\n",
        "          if neighbor not in cost_so_far or new_cost < cost_so_far[neighbor]:\n",
        "            cost_so_far[neighbor] = new_cost\n",
        "            came_from[neighbor] = current_node\n",
        "            frontier.append((neighbor, new_cost)) # Add to frontier\n",
        "\n",
        "      print(\"Goal not found\")\n",
        "\n",
        "\n",
        "def run_agent(agent, environment,start):\n",
        "  agent.act(environment.graph, start)\n",
        "\n",
        "agent = UtilityBasedAgent(goal)\n",
        "environment = Environment(graph)\n",
        "\n",
        "run_agent(agent, environment,start)\n"
      ],
      "metadata": {
        "colab": {
          "base_uri": "https://localhost:8080/"
        },
        "id": "-Wx2x35IKHHi",
        "outputId": "9f9e1683-3fe6-4842-df2d-fbe6d8ae4586"
      },
      "execution_count": null,
      "outputs": [
        {
          "output_type": "stream",
          "name": "stdout",
          "text": [
            "Goal found with UCS. Path: ['A', 'B', 'D', 'H', 'I'], Total Cost: 7\n"
          ]
        }
      ]
    },
    {
      "cell_type": "code",
      "source": [
        "#Task2\n",
        "from itertools import permutations\n",
        "\n",
        "travel_costs = {\n",
        "    'A': {'A': 0, 'B': 12, 'C': 18, 'D': 25},\n",
        "    'B': {'A': 12, 'B': 0, 'C': 40, 'D': 22},\n",
        "    'C': {'A': 18, 'B': 40, 'C': 0, 'D': 35},\n",
        "    'D': {'A': 25, 'B': 22, 'C': 35, 'D': 0}\n",
        "}\n",
        "\n",
        "city_list = list(travel_costs.keys())\n",
        "starting_city = 'A'\n",
        "possible_routes = permutations([city for city in city_list if city != starting_city])\n",
        "\n",
        "optimal_cost = float('inf')\n",
        "optimal_route = []\n",
        "\n",
        "for route in possible_routes:\n",
        "    total_cost = 0\n",
        "    current_city = starting_city\n",
        "\n",
        "    for next_city in route:\n",
        "        total_cost += travel_costs[current_city][next_city]\n",
        "        current_city = next_city\n",
        "\n",
        "    total_cost += travel_costs[current_city][starting_city]\n",
        "\n",
        "    if total_cost < optimal_cost:\n",
        "        optimal_cost = total_cost\n",
        "        optimal_route = [starting_city] + list(route) + [starting_city]\n",
        "\n",
        "print(\"Optimal Route:\", \" → \".join(optimal_route))\n",
        "print(\"Optimal Route Cost:\", optimal_cost)\n"
      ],
      "metadata": {
        "colab": {
          "base_uri": "https://localhost:8080/"
        },
        "id": "24f21zB9HxvH",
        "outputId": "541fd1b6-e40a-4f5b-9889-8dd04fcd3595"
      },
      "execution_count": null,
      "outputs": [
        {
          "output_type": "stream",
          "name": "stdout",
          "text": [
            "Optimal Route: A → B → D → C → A\n",
            "Optimal Route Cost: 87\n"
          ]
        }
      ]
    },
    {
      "cell_type": "code",
      "source": [
        "#Task3\n",
        "tree = {\n",
        "    'A': ['B', 'C'],\n",
        "    'B': ['D', 'E'],\n",
        "    'C': ['F', 'G'],\n",
        "    'D': ['H'],\n",
        "    'E': [],\n",
        "    'F': ['I'],\n",
        "    'G': [],\n",
        "    'H': [],\n",
        "    'I': []\n",
        "}\n",
        "graph = {\n",
        "  'A': ['B', 'C', 'D'],\n",
        "  'B': ['D', 'E', 'F'],\n",
        "  'C': ['F', 'G', 'A'],\n",
        "  'D': ['H'],\n",
        "  'E': ['B', 'C', 'D'],\n",
        "  'F': ['H','I'],\n",
        "  'G': ['C'],\n",
        "  'H': ['I'],\n",
        "  'I': ['H']\n",
        "}\n",
        "def dls(graphOrTree,isTree,node, goal, depth, path,visited):\n",
        "    if depth == 0:\n",
        "        return False\n",
        "    if node == goal:\n",
        "        path.append(node)\n",
        "        return True\n",
        "    if node not in graphOrTree:\n",
        "        return False\n",
        "    visited.append(node)\n",
        "    for child in graphOrTree[node]:\n",
        "      if isTree==False:\n",
        "        if child not in visited:\n",
        "          if dls(graphOrTree,isTree,child, goal, depth - 1, path,visited):\n",
        "            path.append(node)\n",
        "            return True\n",
        "      else:\n",
        "          if dls(graphOrTree,isTree,child, goal, depth - 1, path,visited):\n",
        "            path.append(node)\n",
        "            return True\n",
        "    visited.remove(node)\n",
        "    return False\n",
        "\n",
        "def iterative_deepening_dfs(graphOrTree,isTree,start, goal, max_depth):\n",
        "\n",
        "    if isTree:\n",
        "      var='tree'\n",
        "    else:\n",
        "      var='graph'\n",
        "    for depth in range(max_depth + 1):\n",
        "        print(f\"Searching for {var} at depth: {depth}\")\n",
        "        path = []\n",
        "        visited=[]\n",
        "        if dls(graphOrTree,isTree,start, goal, depth, path,visited):\n",
        "            print(\"\\nPath to goal:\", \" → \".join(reversed(path)))\n",
        "            print()\n",
        "            return\n",
        "    print(\"Goal not found within depth limit.\")\n",
        "start_node = 'A'\n",
        "goal_node = 'I'\n",
        "max_search_depth = 5\n",
        "iterative_deepening_dfs(tree,True,start_node, goal_node, max_search_depth)\n",
        "iterative_deepening_dfs(graph,False,start_node, goal_node, max_search_depth)\n"
      ],
      "metadata": {
        "colab": {
          "base_uri": "https://localhost:8080/"
        },
        "id": "KV-b0_Xnr6uj",
        "outputId": "6edd9d7e-9130-49c9-cfd1-79dd20887eef"
      },
      "execution_count": null,
      "outputs": [
        {
          "output_type": "stream",
          "name": "stdout",
          "text": [
            "Searching for tree at depth: 0\n",
            "Searching for tree at depth: 1\n",
            "Searching for tree at depth: 2\n",
            "Searching for tree at depth: 3\n",
            "Searching for tree at depth: 4\n",
            "\n",
            "Path to goal: A → C → F → I\n",
            "\n",
            "Searching for graph at depth: 0\n",
            "Searching for graph at depth: 1\n",
            "Searching for graph at depth: 2\n",
            "Searching for graph at depth: 3\n",
            "Searching for graph at depth: 4\n",
            "\n",
            "Path to goal: A → B → F → I\n",
            "\n"
          ]
        }
      ]
    },
    {
      "cell_type": "code",
      "source": [
        "#Task 4\n",
        "\n",
        "grid = [\n",
        "    [0, 0, 0, 1, 0],\n",
        "    [0, 1, 0, 1, 0],\n",
        "    ['S', 0, 0, 0, 1],\n",
        "    [0, 1, 1, 0, 0],\n",
        "    [0, 0, 0, 1, 'G']\n",
        "]\n",
        "def bfs_pubg(grid, start):\n",
        "    rows, cols = len(grid), len(grid[0])\n",
        "    directions=[(0,1),(0,-1),(1,0),(-1,0)]\n",
        "    queue=[(start,[start])]\n",
        "    visited=[]\n",
        "    visited.append(start)\n",
        "    while queue:\n",
        "      (x,y),path=queue.pop(0)\n",
        "      if grid[x][y]=='G':\n",
        "        return path\n",
        "\n",
        "      for dx,dy in directions:\n",
        "        new_x,new_y=x+dx,y+dy\n",
        "        if 0<=new_x<rows and 0<=new_y<cols and grid[new_x][new_y]!=1 and (new_x,new_y) not in visited:\n",
        "          visited.append((new_x,new_y))\n",
        "          queue.append(((new_x,new_y),path + [(new_x,new_y)]))\n",
        "\n",
        "for i in range(len(grid)):\n",
        "    for j in range(len(grid[0])):\n",
        "        if grid[i][j] == 'S':\n",
        "            start = (i, j)\n",
        "            grid[i][j] = 0\n",
        "            break\n",
        "path = bfs_pubg(grid, start)\n",
        "if path:\n",
        "    print(\"Shortest Path to Safe Zone:\", path)\n",
        "else:\n",
        "    print(\"No path found to the safe zone.\")\n"
      ],
      "metadata": {
        "colab": {
          "base_uri": "https://localhost:8080/"
        },
        "id": "5LhlflMA15CX",
        "outputId": "fa780c18-bbb5-4e57-9e5d-1828f824d046"
      },
      "execution_count": 3,
      "outputs": [
        {
          "output_type": "stream",
          "name": "stdout",
          "text": [
            "Shortest Path to Safe Zone: [(2, 0), (2, 1), (2, 2), (2, 3), (3, 3), (3, 4), (4, 4)]\n"
          ]
        }
      ]
    },
    {
      "cell_type": "code",
      "source": [],
      "metadata": {
        "id": "NTGhCH883r25"
      },
      "execution_count": null,
      "outputs": []
    },
    {
      "cell_type": "markdown",
      "metadata": {
        "id": "M7HHK_pYQr9n"
      },
      "source": []
    }
  ],
  "metadata": {
    "colab": {
      "provenance": []
    },
    "kernelspec": {
      "display_name": "Python 3",
      "name": "python3"
    },
    "language_info": {
      "name": "python"
    }
  },
  "nbformat": 4,
  "nbformat_minor": 0
}
